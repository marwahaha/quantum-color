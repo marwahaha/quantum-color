{
 "cells": [
  {
   "cell_type": "code",
   "execution_count": 5,
   "metadata": {},
   "outputs": [
    {
     "name": "stdout",
     "output_type": "stream",
     "text": [
      "Using matplotlib backend: Qt5Agg\n"
     ]
    }
   ],
   "source": [
    "import numpy as np\n",
    "import qutip as qt\n",
    "import matplotlib.pyplot as plt\n",
    "from mpl_toolkits.mplot3d import axes3d\n",
    "from colormath.color_objects import sRGBColor, XYZColor\n",
    "from colormath.color_conversions import convert_color\n",
    "%matplotlib"
   ]
  },
  {
   "cell_type": "code",
   "execution_count": 14,
   "metadata": {},
   "outputs": [
    {
     "name": "stdout",
     "output_type": "stream",
     "text": [
      "(441, 4)\n"
     ]
    }
   ],
   "source": [
    "MF = np.genfromtxt(\"lin2012xyz2e_1_7sf.csv\", delimiter=',') \n",
    "print(MF.shape)\n",
    "CMF = MF[:, 1:4]"
   ]
  },
  {
   "cell_type": "code",
   "execution_count": 15,
   "metadata": {},
   "outputs": [],
   "source": [
    "def EdgeOptimal(i, delta, CMF):\n",
    "    \"\"\"\n",
    "    Optimal windowing function without wrapping\n",
    "    \n",
    "    i: center wavelength-index\n",
    "    delta: width of the window\n",
    "    CMF: color matching function\n",
    "    \"\"\"\n",
    "    Norm = np.sum(CMF, 0)\n",
    "    c0 = 0\n",
    "    c1 = 0\n",
    "    c2 = 0\n",
    "    for j in range(int(i-delta/2), int(i+delta/2), 1):\n",
    "        if( (j > 0) and (j < CMF.shape[0]) ):\n",
    "            c0 += CMF[j,0]\n",
    "            c1 += CMF[j,1]\n",
    "            c2 += CMF[j,2]\n",
    "    return (c0/Norm[0], c1/Norm[1], c2/Norm[2])\n",
    "\n",
    "def DoubleOptimal(i, delta, CMF):\n",
    "    \"\"\"\n",
    "    Optimal windowing function with wrapping\n",
    "    \n",
    "    i: center wavelength-index\n",
    "    delta: width of the window\n",
    "    CMF: color matching function\n",
    "    \"\"\"\n",
    "    Norm = np.sum(CMF, 0)\n",
    "    c0 = 0\n",
    "    c1 = 0\n",
    "    c2 = 0\n",
    "    L = CMF.shape[0]\n",
    "    for j in range(int(i-delta/2), int(i+delta/2), 1):\n",
    "        if( (j > 0) and (j < L) ):\n",
    "            c0 += CMF[j,0]\n",
    "            c1 += CMF[j,1]\n",
    "            c2 += CMF[j,2]\n",
    "        elif( j > L ):\n",
    "            c0 += CMF[j-L,0]\n",
    "            c1 += CMF[j-L,1]\n",
    "            c2 += CMF[j-L,2]\n",
    "        elif( j < 0 ):\n",
    "            c0 += CMF[L+j,0]\n",
    "            c1 += CMF[L+j,1]\n",
    "            c2 += CMF[L+j,2]\n",
    "    return (c0/Norm[0], c1/Norm[1], c2/Norm[2])"
   ]
  },
  {
   "cell_type": "code",
   "execution_count": 16,
   "metadata": {},
   "outputs": [
    {
     "data": {
      "text/plain": [
       "<mpl_toolkits.mplot3d.art3d.Path3DCollection at 0x7f6d84064d30>"
      ]
     },
     "execution_count": 16,
     "metadata": {},
     "output_type": "execute_result"
    }
   ],
   "source": [
    "# plot single-sided Newtonian optimal solid \n",
    "C0 = []\n",
    "C1 = []\n",
    "C2 = []\n",
    "RGB = []\n",
    "fig = plt.figure()\n",
    "ax = fig.gca(projection='3d')\n",
    "for i in range(0, 441, 10):\n",
    "    for j in range(0, 441, 20):\n",
    "        O = EdgeOptimal(i, j, CMF)\n",
    "        C0.append( O[0] )\n",
    "        C1.append( O[1] )\n",
    "        C2.append( O[2] )\n",
    "        C = XYZColor(O[0], O[1], O[2])\n",
    "        crgb = convert_color(C, sRGBColor)\n",
    "        r = crgb.rgb_r\n",
    "        g = crgb.rgb_g\n",
    "        b = crgb.rgb_b\n",
    "        r = r if r > 0 else 0\n",
    "        g = g if g > 0 else 0\n",
    "        b = b if b > 0 else 0\n",
    "        r = r if r < 1 else 1\n",
    "        g = g if g < 1 else 1\n",
    "        b = b if b < 1 else 1\n",
    "        rgb = [r, g, b]\n",
    "        RGB.append(rgb)\n",
    "ax.scatter(C0, C1, C2, c=RGB)\n"
   ]
  },
  {
   "cell_type": "code",
   "execution_count": 18,
   "metadata": {},
   "outputs": [],
   "source": [
    "# plot double-sided Schroedinger color solid, with locus of windows 1/2 spectral width\n",
    "\n",
    "C0 = []\n",
    "C1 = []\n",
    "C2 = []\n",
    "RGB = []\n",
    "fig = plt.figure()\n",
    "ax = fig.gca(projection='3d')\n",
    "for i in range(0, 441, 10):\n",
    "    for j in range(0, 441, 20):\n",
    "        O = DoubleOptimal(i, j, CMF)\n",
    "        C0.append( O[0] )\n",
    "        C1.append( O[1] )\n",
    "        C2.append( O[2] )\n",
    "        C = XYZColor(O[0], O[1], O[2])\n",
    "        crgb = convert_color(C, sRGBColor)\n",
    "        r = crgb.rgb_r\n",
    "        g = crgb.rgb_g\n",
    "        b = crgb.rgb_b\n",
    "        r = r if r > 0 else 0\n",
    "        g = g if g > 0 else 0\n",
    "        b = b if b > 0 else 0\n",
    "        r = r if r < 1 else 1\n",
    "        g = g if g < 1 else 1\n",
    "        b = b if b < 1 else 1\n",
    "        rgb = [r, g, b]\n",
    "        RGB.append(rgb)\n",
    "ax.scatter(C0, C1, C2, c=RGB)\n",
    "\n",
    "# plot optimal colors with width = L/2\n",
    "C0 = []\n",
    "C1 = []\n",
    "C2 = []\n",
    "RGB = []\n",
    "for i in range(0, 441, 10):\n",
    "    O = DoubleOptimal(i, 220, CMF)\n",
    "    C0.append( O[0] )\n",
    "    C1.append( O[1] )\n",
    "    C2.append( O[2] )\n",
    "    C = XYZColor(O[0], O[1], O[2])\n",
    "    crgb = convert_color(C, sRGBColor)\n",
    "    r = crgb.rgb_r\n",
    "    g = crgb.rgb_g\n",
    "    b = crgb.rgb_b\n",
    "    r = r if r > 0 else 0\n",
    "    g = g if g > 0 else 0\n",
    "    b = b if b > 0 else 0\n",
    "    r = r if r < 1 else 1\n",
    "    g = g if g < 1 else 1\n",
    "    b = b if b < 1 else 1\n",
    "    rgb = [r, g, b]\n",
    "    RGB.append(rgb)\n",
    "ax.scatter(C0, C1, C2, s=400, c=RGB) \n",
    "plt.show()"
   ]
  },
  {
   "cell_type": "markdown",
   "metadata": {},
   "source": [
    "Observe that we seem to get an optimal color locus when we plot equal width optimal windows in XYZ. Let's verify this"
   ]
  },
  {
   "cell_type": "code",
   "execution_count": 17,
   "metadata": {},
   "outputs": [],
   "source": [
    "# Plot all optimal colors of constant width on a line\n",
    "fig = plt.figure()\n",
    "ax = fig.gca(projection='3d')\n",
    "C0 = []\n",
    "C1 = []\n",
    "C2 = []\n",
    "RGB = []\n",
    "for i in range(0, 441, 10):\n",
    "    O = DoubleOptimal(i, 220, CMF)\n",
    "    C0.append( O[0] )\n",
    "    C1.append( O[1] )\n",
    "    C2.append( O[2] )\n",
    "    C = XYZColor(O[0], O[1], O[2])\n",
    "    crgb = convert_color(C, sRGBColor)\n",
    "    r = crgb.rgb_r\n",
    "    g = crgb.rgb_g\n",
    "    b = crgb.rgb_b\n",
    "    r = r if r > 0 else 0\n",
    "    g = g if g > 0 else 0\n",
    "    b = b if b > 0 else 0\n",
    "    r = r if r < 1 else 1\n",
    "    g = g if g < 1 else 1\n",
    "    b = b if b < 1 else 1\n",
    "    rgb = [r, g, b]\n",
    "    ax.scatter(i, 0, s=400, color=rgb) \n",
    "plt.show()"
   ]
  },
  {
   "cell_type": "markdown",
   "metadata": {},
   "source": [
    "To be sure we're doing this right, lets see what happens when we plot with just edge optimals"
   ]
  },
  {
   "cell_type": "code",
   "execution_count": 31,
   "metadata": {},
   "outputs": [],
   "source": [
    "# Plot only edge optimals of constant width on a line\n",
    "fig = plt.figure()\n",
    "ax = fig.gca(projection='3d')\n",
    "C0 = []\n",
    "C1 = []\n",
    "C2 = []\n",
    "RGB = []\n",
    "for i in range(0, 441, 10):\n",
    "    O = EdgeOptimal(i, 220, CMF)\n",
    "    C0.append( O[0] )\n",
    "    C1.append( O[1] )\n",
    "    C2.append( O[2] )\n",
    "    C = XYZColor(O[0], O[1], O[2])\n",
    "    crgb = convert_color(C, sRGBColor)\n",
    "    r = crgb.rgb_r\n",
    "    g = crgb.rgb_g\n",
    "    b = crgb.rgb_b\n",
    "    r = r if r > 0 else 0\n",
    "    g = g if g > 0 else 0\n",
    "    b = b if b > 0 else 0\n",
    "    r = r if r < 1 else 1\n",
    "    g = g if g < 1 else 1\n",
    "    b = b if b < 1 else 1\n",
    "    rgb = [r, g, b]\n",
    "    ax.scatter(i, 0, s=400, color=rgb) \n",
    "plt.show()"
   ]
  },
  {
   "cell_type": "code",
   "execution_count": 36,
   "metadata": {},
   "outputs": [],
   "source": [
    "def ColorState(rho):\n",
    "    \"\"\"\n",
    "    ColorState: \n",
    "    maps a given density operator \n",
    "    to a color in optimal color space. \n",
    "    \n",
    "    TODO\n",
    "    \"\"\""
   ]
  }
 ],
 "metadata": {
  "kernelspec": {
   "display_name": "Python 3",
   "language": "python",
   "name": "python3"
  },
  "language_info": {
   "codemirror_mode": {
    "name": "ipython",
    "version": 3
   },
   "file_extension": ".py",
   "mimetype": "text/x-python",
   "name": "python",
   "nbconvert_exporter": "python",
   "pygments_lexer": "ipython3",
   "version": "3.8.5"
  }
 },
 "nbformat": 4,
 "nbformat_minor": 4
}
