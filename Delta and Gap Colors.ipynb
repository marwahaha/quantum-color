{
 "cells": [
  {
   "cell_type": "code",
   "execution_count": 1,
   "metadata": {},
   "outputs": [
    {
     "name": "stdout",
     "output_type": "stream",
     "text": [
      "Using matplotlib backend: Qt5Agg\n"
     ]
    }
   ],
   "source": [
    "import numpy as np\n",
    "import qutip as qt\n",
    "import matplotlib.pyplot as plt\n",
    "from mpl_toolkits.mplot3d import axes3d\n",
    "from colormath.color_objects import sRGBColor, XYZColor\n",
    "from colormath.color_conversions import convert_color\n",
   ]
  },
  {
   "cell_type": "code",
   "execution_count": 2,
   "metadata": {},
   "outputs": [
    {
     "name": "stdout",
     "output_type": "stream",
     "text": [
      "(441, 4)\n"
     ]
    }
   ],
   "source": [
    "MF = np.genfromtxt(\"lin2012xyz2e_1_7sf.csv\", delimiter=',') \n",
    "print(MF.shape)\n",
    "CMF = MF[:, 1:4]"
   ]
  },
  {
   "cell_type": "markdown",
   "metadata": {},
   "source": [
    "# Delta and Gap Colors\n",
    "\n",
    "We convert XYZ to RGB and display"
   ]
  },
  {
   "cell_type": "code",
   "execution_count": 9,
   "metadata": {},
   "outputs": [],
   "source": [
    "# display delta colors\n",
    "fig = plt.figure()\n",
    "ax = fig.gca(projection='3d')\n",
    "for i, O in enumerate(CMF):\n",
    "    C = XYZColor(O[0], O[1], O[2])\n",
    "    crgb = convert_color(C, sRGBColor)\n",
    "    r = crgb.rgb_r\n",
    "    g = crgb.rgb_g\n",
    "    b = crgb.rgb_b\n",
    "    r = r if r > 0 else 0\n",
    "    g = g if g > 0 else 0\n",
    "    b = b if b > 0 else 0\n",
    "    r = r if r < 1 else 1\n",
    "    g = g if g < 1 else 1\n",
    "    b = b if b < 1 else 1\n",
    "    rgb = [r, g, b]\n",
    "    ax.scatter(i, -5, s=400, color=rgb) \n",
    "for i, O in enumerate(CMF):\n",
    "    C = XYZColor(1-O[0], 1-O[1], 1-O[2])\n",
    "    crgb = convert_color(C, sRGBColor)\n",
    "    r = crgb.rgb_r\n",
    "    g = crgb.rgb_g\n",
    "    b = crgb.rgb_b\n",
    "    r = r if r > 0 else 0\n",
    "    g = g if g > 0 else 0\n",
    "    b = b if b > 0 else 0\n",
    "    r = r if r < 1 else 1\n",
    "    g = g if g < 1 else 1\n",
    "    b = b if b < 1 else 1\n",
    "    rgb = [r, g, b]\n",
    "    ax.scatter(i, 5, s=400, color=rgb) \n",
    "plt.show()"
   ]
  },
  {
   "cell_type": "markdown",
   "metadata": {},
   "source": [
    "# delta and gap colors on the color solid\n",
    "\n",
    "Plot the color solid and graph delta and gap colors"
   ]
  },
  {
   "cell_type": "code",
   "execution_count": 13,
   "metadata": {},
   "outputs": [],
   "source": [
    "def OptimalSpectrum(i, delta, L, step=1):\n",
    "    \"\"\"\n",
    "    Returns a spectrum associated with a true optimal color\n",
    "    \"\"\"\n",
    "    sout = np.zeros(int(L/step))\n",
    "    for j in range(i - int(delta/2), i + int(delta/2), step):\n",
    "        if( (j >= 0) and (j < L) ):\n",
    "            sout[j] = 1\n",
    "        elif( j > L ):\n",
    "            sout[j-L] = 1\n",
    "        elif( j < 0 ):\n",
    "            sout[L+j] = 1\n",
    "    return sout\n",
    "\n",
    "\n",
    "def Optimal(i, delta, CMF):\n",
    "    \"\"\"\n",
    "    Optimal windowing function with wrapping\n",
    "    \n",
    "    returns XYZ coords of optimal color window defined by i and delta\n",
    "    \n",
    "    i: center wavelength-index\n",
    "    delta: width of the window\n",
    "    CMF: color matching function\n",
    "    \"\"\"\n",
    "    Norm = np.sum(CMF, 0)\n",
    "    c0 = 0\n",
    "    c1 = 0\n",
    "    c2 = 0\n",
    "    Spect = OptimalSpectrum(i, delta, CMF.shape[0], step=1)\n",
    "    for idx, s in enumerate(Spect):\n",
    "        if s > 0:\n",
    "            c0 += s*CMF[idx, 0]\n",
    "            c1 += s*CMF[idx, 1]\n",
    "            c2 += s*CMF[idx, 2]\n",
    "    return (c0/Norm[0], c1/Norm[1], c2/Norm[2])"
   ]
  },
  {
   "cell_type": "code",
   "execution_count": 18,
   "metadata": {},
   "outputs": [],
   "source": [
    "C0 = []\n",
    "C1 = []\n",
    "C2 = []\n",
    "RGB = []\n",
    "fig = plt.figure()\n",
    "ax = fig.gca(projection='3d')\n",
    "for i in range(0, 441, 10):\n",
    "    for j in range(0, 441, 20):\n",
    "        O = Optimal(i, j, CMF)\n",
    "        C0.append( O[0] )\n",
    "        C1.append( O[1] )\n",
    "        C2.append( O[2] )\n",
    "        C = XYZColor(O[0], O[1], O[2])\n",
    "        crgb = convert_color(C, sRGBColor)\n",
    "        r = crgb.rgb_r\n",
    "        g = crgb.rgb_g\n",
    "        b = crgb.rgb_b\n",
    "        r = r if r > 0 else 0\n",
    "        g = g if g > 0 else 0\n",
    "        b = b if b > 0 else 0\n",
    "        r = r if r < 1 else 1\n",
    "        g = g if g < 1 else 1\n",
    "        b = b if b < 1 else 1\n",
    "        rgb = [r, g, b]\n",
    "        RGB.append(rgb)\n",
    "ax.scatter(C0, C1, C2, c=RGB)\n",
    "\n",
    "# plot delta colors\n",
    "C0 = []\n",
    "C1 = []\n",
    "C2 = []\n",
    "RGB = []\n",
    "for O in CMF:\n",
    "    C = XYZColor(O[0], O[1], O[2])\n",
    "    crgb = convert_color(C, sRGBColor)\n",
    "    C0.append( O[0] )\n",
    "    C1.append( O[1] )\n",
    "    C2.append( O[2] )\n",
    "    r = crgb.rgb_r\n",
    "    g = crgb.rgb_g\n",
    "    b = crgb.rgb_b\n",
    "    r = r if r > 0 else 0\n",
    "    g = g if g > 0 else 0\n",
    "    b = b if b > 0 else 0\n",
    "    r = r if r < 1 else 1\n",
    "    g = g if g < 1 else 1\n",
    "    b = b if b < 1 else 1\n",
    "    rgb = [r, g, b]\n",
    "    RGB.append(rgb)\n",
    "ax.scatter(C0, C1, C2, s=400, c=RGB) \n",
    "# plot gap colors\n",
    "C0 = []\n",
    "C1 = []\n",
    "C2 = []\n",
    "RGB = []\n",
    "for O in CMF:\n",
    "    O = 1-O\n",
    "    C = XYZColor(O[0], O[1], O[2])\n",
    "    crgb = convert_color(C, sRGBColor)\n",
    "    C0.append( O[0] )\n",
    "    C1.append( O[1] )\n",
    "    C2.append( O[2] )\n",
    "    r = crgb.rgb_r\n",
    "    g = crgb.rgb_g\n",
    "    b = crgb.rgb_b\n",
    "    r = r if r > 0 else 0\n",
    "    g = g if g > 0 else 0\n",
    "    b = b if b > 0 else 0\n",
    "    r = r if r < 1 else 1\n",
    "    g = g if g < 1 else 1\n",
    "    b = b if b < 1 else 1\n",
    "    rgb = [r, g, b]\n",
    "    RGB.append(rgb)\n",
    "ax.scatter(C0, C1, C2, s=400, c=RGB) \n",
    "plt.show()"
   ]
  },
  {
   "cell_type": "code",
   "execution_count": null,
   "metadata": {},
   "outputs": [],
   "source": []
  }
 ],
 "metadata": {
  "kernelspec": {
   "display_name": "Python 3",
   "language": "python",
   "name": "python3"
  },
  "language_info": {
   "codemirror_mode": {
    "name": "ipython",
    "version": 3
   },
   "file_extension": ".py",
   "mimetype": "text/x-python",
   "name": "python",
   "nbconvert_exporter": "python",
   "pygments_lexer": "ipython3",
   "version": "3.8.6"
  }
 },
 "nbformat": 4,
 "nbformat_minor": 4
}
